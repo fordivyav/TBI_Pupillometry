{
  "cells": [
    {
      "attachments": {},
      "cell_type": "markdown",
      "metadata": {},
      "source": [
        "# Discharge Summary Extraction\n",
        "### Author: Divya Veerapaneni MS4, Ong Lab\n",
        "### Description: This ipynb extracts hospitalization data from discharge summaries as follows:\n",
        "#### - EVD placement, Bolt placement, emergent surgery, mechanism of trauma, discharge exam, discharge condition, etc/\n",
        "### Input: Extracted_Discharge_Summary_Parameters - discharge summaries\n",
        "### Output: discharge summaries with extracted data"
      ]
    },
    {
      "cell_type": "code",
      "execution_count": 1,
      "metadata": {
        "colab": {
          "base_uri": "https://localhost:8080/"
        },
        "id": "8jugDiqAg99t",
        "outputId": "d2b73cc8-947c-40fd-e2e7-4d89511b50e6"
      },
      "outputs": [],
      "source": [
        "#import statements\n",
        "import os\n",
        "import pandas as pd\n",
        "import numpy as np\n",
        "import csv\n",
        "from datetime import datetime \n",
        "import seaborn as sns\n",
        "import matplotlib.pyplot as plt\n",
        "from os import path\n",
        "from scipy.stats import f_oneway\n",
        "import datetime\n",
        "import warnings\n",
        "import statistics\n",
        "warnings.filterwarnings(\"ignore\")"
      ]
    },
    {
      "cell_type": "code",
      "execution_count": 3,
      "metadata": {},
      "outputs": [],
      "source": [
        "#input file\n",
        "file_path = '/Users/divs/Box/1-BMC Smartguards/10-Processing and Visualization/8-TBI Pupillometry/Results/Extracted_Discharge_Summary_Parameters.xlsx'\n",
        "discharge_df = pd.read_excel(file_path)"
      ]
    },
    {
      "attachments": {},
      "cell_type": "markdown",
      "metadata": {},
      "source": [
        "# Extract EVD Data"
      ]
    },
    {
      "cell_type": "code",
      "execution_count": 4,
      "metadata": {},
      "outputs": [
        {
          "data": {
            "text/plain": [
              "no     134\n",
              "yes      3\n",
              "Name: evd, dtype: int64"
            ]
          },
          "execution_count": 4,
          "metadata": {},
          "output_type": "execute_result"
        }
      ],
      "source": [
        "def extract_evd_info(row):\n",
        "    note = row['Consolidate']\n",
        "    keywords = ['evd', 'external drain', 'EVD']\n",
        "    for key in keywords:\n",
        "        if key in note:\n",
        "            return 'yes'\n",
        "    return 'no'\n",
        "           \n",
        "discharge_df['evd'] = discharge_df.apply(extract_evd_info, axis=1)\n",
        "discharge_df.evd.value_counts()"
      ]
    },
    {
      "attachments": {},
      "cell_type": "markdown",
      "metadata": {},
      "source": [
        "# Extract Bolt Data"
      ]
    },
    {
      "cell_type": "code",
      "execution_count": 5,
      "metadata": {},
      "outputs": [
        {
          "data": {
            "text/plain": [
              "no     116\n",
              "yes     21\n",
              "Name: bolt, dtype: int64"
            ]
          },
          "execution_count": 5,
          "metadata": {},
          "output_type": "execute_result"
        }
      ],
      "source": [
        "def extract_bolt_info(row):\n",
        "    note = row['Consolidate']\n",
        "    keywords = ['bolt', 'icp monitor', 'icp', 'ICP']\n",
        "    for key in keywords:\n",
        "        if key in note:\n",
        "            return 'yes'\n",
        "    return 'no'\n",
        "           \n",
        "discharge_df['bolt'] = discharge_df.apply(extract_bolt_info, axis=1)\n",
        "#discharge_df.to_excel(file_path)\n",
        "discharge_df.bolt.value_counts()"
      ]
    },
    {
      "attachments": {},
      "cell_type": "markdown",
      "metadata": {},
      "source": [
        "# Extract Surgery"
      ]
    },
    {
      "cell_type": "code",
      "execution_count": 6,
      "metadata": {},
      "outputs": [],
      "source": [
        "def extract_surgery_info(row):\n",
        "    note = row['Consolidate']\n",
        "    if 'Major Procedures' in note:\n",
        "        start_index = note.find('Major Procedures') \n",
        "        end_index = note.find('Last Recorded Vitals')\n",
        "        if start_index < end_index:\n",
        "            surgery_info = note[start_index: end_index] #surgery info\n",
        "            surgery_info= surgery_info.replace('No Major Procedures or Diagnositic Tests were completed during your hospitalization', 'None')\n",
        "            surgery_info= surgery_info.replace('No Major Procedures or Diagnositic Tests were completed during your hospitalization', 'None')\n",
        "            surgery_info = surgery_info.replace('Major Procedures and Diagnostic Tests','')\n",
        "            return surgery_info\n",
        "        else:\n",
        "            return note[start_index+len('Major Procedures:'): start_index +200] \n",
        "    else:\n",
        "        return 'None'\n",
        "\n",
        "discharge_df['surgery_info'] = discharge_df.apply(extract_surgery_info, axis=1)\n",
        "# discharge_df = discharge_df[['MRN', 'surgery_info']]"
      ]
    },
    {
      "attachments": {},
      "cell_type": "markdown",
      "metadata": {},
      "source": [
        "# Extract Emergent Surgery Info"
      ]
    },
    {
      "cell_type": "code",
      "execution_count": 7,
      "metadata": {},
      "outputs": [],
      "source": [
        "def extract_crani_info(row):\n",
        "    note = row['surgery_info']\n",
        "    keywords = ['craniectomy', 'craniotomy', 'subdural evacuation', 'sdh evacuation', 'crani', 'epidural']\n",
        "    for key in keywords:\n",
        "        if key in note:\n",
        "            return 'yes'\n",
        "    return 'no'\n",
        "           \n",
        "discharge_df['crani_surgery'] = discharge_df.apply(extract_crani_info, axis=1)"
      ]
    },
    {
      "attachments": {},
      "cell_type": "markdown",
      "metadata": {},
      "source": [
        "# Extract Type of Injury (Penetrating vs. Blunt)"
      ]
    },
    {
      "cell_type": "code",
      "execution_count": 8,
      "metadata": {},
      "outputs": [],
      "source": [
        "def extract_type_injury(row):\n",
        "    note = row['Consolidate']\n",
        "    keywords = 'GSW', 'penetrating', 'gunshot', 'bullet', 'shot'\n",
        "    for key in keywords:\n",
        "        if key in note:\n",
        "            return 'penetrating'\n",
        "    return 'blunt'\n",
        "\n",
        "discharge_df['type_of_injury'] = discharge_df.apply(extract_type_injury, axis=1)"
      ]
    },
    {
      "attachments": {},
      "cell_type": "markdown",
      "metadata": {},
      "source": [
        "# Extract Discharge Exams"
      ]
    },
    {
      "cell_type": "code",
      "execution_count": 10,
      "metadata": {},
      "outputs": [],
      "source": [
        "def extract_exam(row):\n",
        "  text = row['Consolidate']\n",
        "  if type(text) != str:\n",
        "    return ''\n",
        "  else:\n",
        "    exam_ind = text.find(\"Discharge Exam\")\n",
        "    if exam_ind !=-1:\n",
        "      disc_cond_ind = text.find(\"Disposition\")\n",
        "      if disc_cond_ind > exam_ind:\n",
        "        return text[exam_ind: disc_cond_ind]\n",
        "      else:\n",
        "        return text[exam_ind:]\n",
        "        #return text[exam_ind: exam_ind+100]\n",
        "    else:\n",
        "      return ''\n",
        "  #Discharge Exam ... Discharged Condition\n",
        "\n",
        "discharge_df['Exam'] = discharge_df.apply(extract_exam, axis=1)"
      ]
    },
    {
      "attachments": {},
      "cell_type": "markdown",
      "metadata": {},
      "source": [
        "# Extract Discharge Conditions\n"
      ]
    },
    {
      "cell_type": "code",
      "execution_count": 11,
      "metadata": {},
      "outputs": [],
      "source": [
        "def extract_dc_condition(row):\n",
        "  text = row['Consolidate']\n",
        "  if type(text) != str:\n",
        "    return ''\n",
        "  else:\n",
        "    exam_ind = text.find(\"Discharged Condition\")\n",
        "    if exam_ind !=-1:\n",
        "      disc_cond_ind = text.find(\"Disposition\")\n",
        "      if disc_cond_ind > exam_ind:\n",
        "        return text[exam_ind+len(\"Discharged Condition\")+2: disc_cond_ind]\n",
        "      else:\n",
        "        return text[exam_ind+len(\"Discharged Condition\")+2:]\n",
        "        #return text[exam_ind: exam_ind+100]\n",
        "    else:\n",
        "      return ''\n",
        "  #Discharge Condition ... Disposition\n",
        "\n",
        "discharge_df['Discharge Condition'] = discharge_df.apply(extract_dc_condition, axis=1) "
      ]
    },
    {
      "attachments": {},
      "cell_type": "markdown",
      "metadata": {},
      "source": [
        "# Extract Weight Bearing Restrictions"
      ]
    },
    {
      "cell_type": "code",
      "execution_count": null,
      "metadata": {},
      "outputs": [],
      "source": [
        "def extract_weight_bearing(row):\n",
        "  text = row['Consolidate']\n",
        "  keyword = 'Weight Bearing Restrictions'\n",
        "  if type(text) != str:\n",
        "    return ''\n",
        "  else:\n",
        "    exam_ind = text.find(keyword)\n",
        "    if exam_ind !=-1:\n",
        "      disc_cond_ind = text.find('Discharged Condition')\n",
        "      if disc_cond_ind > exam_ind:\n",
        "        return text[exam_ind+len(keyword)+2: disc_cond_ind]\n",
        "      else:\n",
        "        return text[exam_ind+len(keyword)+2:]\n",
        "    else:\n",
        "      return ''\n",
        "  #Discharge Condition ... Disposition\n",
        "\n",
        "discharge_note_df = discharge_df.apply(extract_weight_bearing, axis=1)\n",
        "discharge_note_df['Weight Bearing Restrictions']"
      ]
    },
    {
      "attachments": {},
      "cell_type": "markdown",
      "metadata": {},
      "source": [
        "# Extract General Condition"
      ]
    },
    {
      "cell_type": "code",
      "execution_count": null,
      "metadata": {},
      "outputs": [],
      "source": [
        "def helper_extract_general(text, mrn):\n",
        "  keyword = 'General:'\n",
        "  if type(text) != str:\n",
        "    return ''\n",
        "  else:\n",
        "    exam_ind = text.find(keyword)\n",
        "    if exam_ind !=-1:\n",
        "      disc_cond_ind = text[exam_ind+len(keyword):].find(':') + exam_ind\n",
        "      return text[exam_ind: disc_cond_ind]\n",
        "      #else:\n",
        "      return text[exam_ind:exam_ind+100]\n",
        "    else:\n",
        "      return ''\n",
        "  #Discharge Condition ... Disposition\n",
        "\n",
        "def extract_general(df):\n",
        "  dc_condition_list = []\n",
        "  for index, row in df.iterrows():\n",
        "    text = row['Exam']\n",
        "    mrn = row['MRN']\n",
        "    dc_condition = helper_extract_general(text, mrn)\n",
        "    dc_condition_list.append(dc_condition)\n",
        "  df['General'] = dc_condition_list\n",
        "  return df\n",
        "\n",
        "discharge_note_df = extract_general(discharge_note_df)  \n",
        "discharge_note_df['General']"
      ]
    }
  ],
  "metadata": {
    "colab": {
      "collapsed_sections": [
        "MnLQAGLpnXFw"
      ],
      "provenance": []
    },
    "kernelspec": {
      "display_name": "Python 3",
      "name": "python3"
    },
    "language_info": {
      "codemirror_mode": {
        "name": "ipython",
        "version": 3
      },
      "file_extension": ".py",
      "mimetype": "text/x-python",
      "name": "python",
      "nbconvert_exporter": "python",
      "pygments_lexer": "ipython3",
      "version": "3.9.13"
    }
  },
  "nbformat": 4,
  "nbformat_minor": 0
}
