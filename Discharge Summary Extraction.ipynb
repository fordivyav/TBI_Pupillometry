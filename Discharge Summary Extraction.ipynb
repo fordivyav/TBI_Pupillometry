{
  "cells": [
    {
      "attachments": {},
      "cell_type": "markdown",
      "metadata": {},
      "source": [
        "# Discharge Summary Extraction\n",
        "### Author: Divya Veerapaneni MS4, Ong Lab\n",
        "### Description: This ipynb extracts hospitalization data from discharge summaries as follows:\n",
        "#### - EVD placement, Bolt placement, emergent surgery, mechanism of trauma, discharge exam, discharge condition, etc.\n",
        "### Input: Extracted_Discharge_Summary_Parameters - discharge summaries\n",
        "### Output: discharge summaries with extracted data"
      ]
    },
    {
      "cell_type": "code",
      "execution_count": 1,
      "metadata": {
        "colab": {
          "base_uri": "https://localhost:8080/"
        },
        "id": "8jugDiqAg99t",
        "outputId": "d2b73cc8-947c-40fd-e2e7-4d89511b50e6"
      },
      "outputs": [],
      "source": [
        "#import statements\n",
        "import os\n",
        "import pandas as pd\n",
        "import numpy as np\n",
        "import csv\n",
        "from datetime import datetime \n",
        "import seaborn as sns\n",
        "import matplotlib.pyplot as plt\n",
        "from os import path\n",
        "from scipy.stats import f_oneway\n",
        "import datetime\n",
        "import warnings\n",
        "import statistics\n",
        "warnings.filterwarnings(\"ignore\")"
      ]
    },
    {
      "cell_type": "code",
      "execution_count": 2,
      "metadata": {},
      "outputs": [],
      "source": [
        "#input file\n",
        "file_path = '/Users/divs/Box/1-BMC Smartguards/10-Processing and Visualization/8-TBI Pupillometry/Results/Extracted_Discharge_Summary_Parameters.xlsx'\n",
        "discharge_df = pd.read_excel(file_path)"
      ]
    },
    {
      "attachments": {},
      "cell_type": "markdown",
      "metadata": {},
      "source": [
        "# Extract EVD Data"
      ]
    },
    {
      "cell_type": "code",
      "execution_count": 3,
      "metadata": {},
      "outputs": [
        {
          "data": {
            "text/plain": [
              "no     134\n",
              "yes      3\n",
              "Name: evd, dtype: int64"
            ]
          },
          "execution_count": 3,
          "metadata": {},
          "output_type": "execute_result"
        }
      ],
      "source": [
        "def extract_evd_info(row):\n",
        "    note = row['Consolidate']\n",
        "    keywords = ['evd', 'external drain', 'EVD']\n",
        "    for key in keywords:\n",
        "        if key in note:\n",
        "            return 'yes'\n",
        "    return 'no'\n",
        "           \n",
        "discharge_df['evd'] = discharge_df.apply(extract_evd_info, axis=1)\n",
        "discharge_df.evd.value_counts()"
      ]
    },
    {
      "attachments": {},
      "cell_type": "markdown",
      "metadata": {},
      "source": [
        "# Extract Bolt Data"
      ]
    },
    {
      "cell_type": "code",
      "execution_count": 4,
      "metadata": {},
      "outputs": [
        {
          "data": {
            "text/plain": [
              "no     116\n",
              "yes     21\n",
              "Name: bolt, dtype: int64"
            ]
          },
          "execution_count": 4,
          "metadata": {},
          "output_type": "execute_result"
        }
      ],
      "source": [
        "def extract_bolt_info(row):\n",
        "    note = row['Consolidate']\n",
        "    keywords = ['bolt', 'icp monitor', 'icp', 'ICP']\n",
        "    for key in keywords:\n",
        "        if key in note:\n",
        "            return 'yes'\n",
        "    return 'no'\n",
        "           \n",
        "discharge_df['bolt'] = discharge_df.apply(extract_bolt_info, axis=1)\n",
        "#discharge_df.to_excel(file_path)\n",
        "discharge_df.bolt.value_counts()"
      ]
    },
    {
      "attachments": {},
      "cell_type": "markdown",
      "metadata": {},
      "source": [
        "# Extract Surgery"
      ]
    },
    {
      "cell_type": "code",
      "execution_count": 5,
      "metadata": {},
      "outputs": [
        {
          "data": {
            "text/plain": [
              "0       Major Procedures and Diagnostic Tests    No...\n",
              "1    Major Procedures:       Procedure(s):  12/29/2...\n",
              "2    Major Procedures:       1/16/22: Left cranioto...\n",
              "3    Major Procedures:       8/16/22 CTA head/ neck...\n",
              "4                         Major Procedures:   None    \n",
              "Name: surgery_info, dtype: object"
            ]
          },
          "execution_count": 5,
          "metadata": {},
          "output_type": "execute_result"
        }
      ],
      "source": [
        "def extract_surgery_info(row):\n",
        "    note = row['Consolidate']\n",
        "    if 'Major Procedures' in note:\n",
        "        start_index = note.find('Major Procedures') \n",
        "        end_index = note.find('Last Recorded Vitals')\n",
        "        if start_index < end_index:\n",
        "            surgery_info = note[start_index: end_index] #surgery info\n",
        "            surgery_info= surgery_info.replace('No Major Procedures or Diagnositic Tests were completed during your hospitalization', 'None')\n",
        "            surgery_info= surgery_info.replace('No Major Procedures or Diagnositic Tests were completed during your hospitalization', 'None')\n",
        "            surgery_info = surgery_info.replace('Major Procedures and Diagnostic Tests','')\n",
        "            return surgery_info\n",
        "        else:\n",
        "            return note[start_index+len('Major Procedures:'): start_index +200] \n",
        "    else:\n",
        "        return 'None'\n",
        "\n",
        "discharge_df['surgery_info'] = discharge_df.apply(extract_surgery_info, axis=1)\n",
        "discharge_df['surgery_info'].head()"
      ]
    },
    {
      "attachments": {},
      "cell_type": "markdown",
      "metadata": {},
      "source": [
        "# Extract Emergent Surgery Info"
      ]
    },
    {
      "cell_type": "code",
      "execution_count": 6,
      "metadata": {},
      "outputs": [
        {
          "data": {
            "text/plain": [
              "no     96\n",
              "yes    41\n",
              "Name: crani_surgery, dtype: int64"
            ]
          },
          "execution_count": 6,
          "metadata": {},
          "output_type": "execute_result"
        }
      ],
      "source": [
        "def extract_crani_info(row):\n",
        "    note = row['surgery_info']\n",
        "    keywords = ['craniectomy', 'craniotomy', 'subdural evacuation', 'sdh evacuation', 'crani', 'epidural']\n",
        "    for key in keywords:\n",
        "        if key in note:\n",
        "            return 'yes'\n",
        "    return 'no'\n",
        "           \n",
        "discharge_df['crani_surgery'] = discharge_df.apply(extract_crani_info, axis=1)\n",
        "discharge_df.crani_surgery.value_counts()"
      ]
    },
    {
      "attachments": {},
      "cell_type": "markdown",
      "metadata": {},
      "source": [
        "# Extract Type of Injury (Penetrating vs. Blunt)"
      ]
    },
    {
      "cell_type": "code",
      "execution_count": 7,
      "metadata": {},
      "outputs": [
        {
          "data": {
            "text/plain": [
              "blunt          124\n",
              "penetrating     13\n",
              "Name: type_of_injury, dtype: int64"
            ]
          },
          "execution_count": 7,
          "metadata": {},
          "output_type": "execute_result"
        }
      ],
      "source": [
        "def extract_type_injury(row):\n",
        "    note = row['Consolidate']\n",
        "    keywords = 'GSW', 'penetrating', 'gunshot', 'bullet', 'shot'\n",
        "    for key in keywords:\n",
        "        if key in note:\n",
        "            return 'penetrating'\n",
        "    return 'blunt'\n",
        "\n",
        "discharge_df['type_of_injury'] = discharge_df.apply(extract_type_injury, axis=1)\n",
        "discharge_df.type_of_injury.value_counts()"
      ]
    },
    {
      "attachments": {},
      "cell_type": "markdown",
      "metadata": {},
      "source": [
        "# Extract Discharge Exams"
      ]
    },
    {
      "cell_type": "code",
      "execution_count": 8,
      "metadata": {},
      "outputs": [
        {
          "data": {
            "text/plain": [
              "0    Discharge Exam  General: NAD. AAOx3.  CV: RRR ...\n",
              "1    Discharge Exam:   Lying in bed in no acute dis...\n",
              "2    Discharge Exam:   Sitting up in bed and in no ...\n",
              "3    Discharge Exam:   Sitting up in bed in NAD  Ey...\n",
              "4    Discharge Exam:   General - NAD, awake, alert ...\n",
              "Name: Exam, dtype: object"
            ]
          },
          "execution_count": 8,
          "metadata": {},
          "output_type": "execute_result"
        }
      ],
      "source": [
        "def extract_exam(row):\n",
        "  text = row['Consolidate']\n",
        "  if type(text) != str:\n",
        "    return ''\n",
        "  else:\n",
        "    exam_ind = text.find(\"Discharge Exam\")\n",
        "    if exam_ind !=-1:\n",
        "      disc_cond_ind = text.find(\"Disposition\")\n",
        "      if disc_cond_ind > exam_ind:\n",
        "        return text[exam_ind: disc_cond_ind]\n",
        "      else:\n",
        "        return text[exam_ind:]\n",
        "        #return text[exam_ind: exam_ind+100]\n",
        "    else:\n",
        "      return ''\n",
        "  #Discharge Exam ... Discharged Condition\n",
        "\n",
        "discharge_df['Exam'] = discharge_df.apply(extract_exam, axis=1)\n",
        "discharge_df.Exam.head()"
      ]
    },
    {
      "attachments": {},
      "cell_type": "markdown",
      "metadata": {},
      "source": [
        "# Extract Discharge Conditions\n"
      ]
    },
    {
      "cell_type": "code",
      "execution_count": 9,
      "metadata": {},
      "outputs": [
        {
          "data": {
            "text/plain": [
              "0    stable    \n",
              "1      good    \n",
              "2      good    \n",
              "3      good    \n",
              "4      good    \n",
              "Name: Discharge Condition, dtype: object"
            ]
          },
          "execution_count": 9,
          "metadata": {},
          "output_type": "execute_result"
        }
      ],
      "source": [
        "def extract_dc_condition(row):\n",
        "  text = row['Consolidate']\n",
        "  if type(text) != str:\n",
        "    return ''\n",
        "  else:\n",
        "    exam_ind = text.find(\"Discharged Condition\")\n",
        "    if exam_ind !=-1:\n",
        "      disc_cond_ind = text.find(\"Disposition\")\n",
        "      if disc_cond_ind > exam_ind:\n",
        "        return text[exam_ind+len(\"Discharged Condition\")+2: disc_cond_ind]\n",
        "      else:\n",
        "        return text[exam_ind+len(\"Discharged Condition\")+2:]\n",
        "        #return text[exam_ind: exam_ind+100]\n",
        "    else:\n",
        "      return ''\n",
        "  #Discharge Condition ... Disposition\n",
        "\n",
        "discharge_df['Discharge Condition'] = discharge_df.apply(extract_dc_condition, axis=1) \n",
        "discharge_df['Discharge Condition'].head()"
      ]
    },
    {
      "attachments": {},
      "cell_type": "markdown",
      "metadata": {},
      "source": [
        "# Extract Weight Bearing Restrictions"
      ]
    },
    {
      "cell_type": "code",
      "execution_count": 10,
      "metadata": {},
      "outputs": [
        {
          "data": {
            "text/plain": [
              "0                                                     \n",
              "1                                                     \n",
              "2                                                     \n",
              "3                                                     \n",
              "4    Yes Right Lower Extremity  Weight Bearing as T...\n",
              "Name: Weight Bearing Restrictions, dtype: object"
            ]
          },
          "execution_count": 10,
          "metadata": {},
          "output_type": "execute_result"
        }
      ],
      "source": [
        "def extract_weight_bearing(row):\n",
        "  text = row['Consolidate']\n",
        "  keyword = 'Weight Bearing Restrictions'\n",
        "  if type(text) != str:\n",
        "    return ''\n",
        "  else:\n",
        "    exam_ind = text.find(keyword)\n",
        "    if exam_ind !=-1:\n",
        "      disc_cond_ind = text.find('Discharged Condition')\n",
        "      if disc_cond_ind > exam_ind:\n",
        "        return text[exam_ind+len(keyword)+2: disc_cond_ind]\n",
        "      else:\n",
        "        return text[exam_ind+len(keyword)+2:]\n",
        "    else:\n",
        "      return ''\n",
        "  #Discharge Condition ... Disposition\n",
        "\n",
        "discharge_df['Weight Bearing Restrictions'] = discharge_df.apply(extract_weight_bearing, axis=1)\n",
        "discharge_df['Weight Bearing Restrictions'].head()"
      ]
    },
    {
      "attachments": {},
      "cell_type": "markdown",
      "metadata": {},
      "source": [
        "# Extract General Condition"
      ]
    },
    {
      "cell_type": "code",
      "execution_count": 11,
      "metadata": {},
      "outputs": [
        {
          "data": {
            "text/plain": [
              "0    General: NAD. AA\n",
              "1                    \n",
              "2                    \n",
              "3                    \n",
              "4                    \n",
              "Name: General, dtype: object"
            ]
          },
          "execution_count": 11,
          "metadata": {},
          "output_type": "execute_result"
        }
      ],
      "source": [
        "def extract_general(row):\n",
        "  text = row['Consolidate']\n",
        "  keyword = 'General:'\n",
        "  if type(text) != str:\n",
        "    return ''\n",
        "  else:\n",
        "    exam_ind = text.find(keyword)\n",
        "    if exam_ind !=-1:\n",
        "      disc_cond_ind = text[exam_ind+len(keyword):].find(':') + exam_ind\n",
        "      return text[exam_ind: disc_cond_ind]\n",
        "      #else:\n",
        "      return text[exam_ind:exam_ind+100]\n",
        "    else:\n",
        "      return ''\n",
        "  #Discharge Condition ... Disposition\n",
        "\n",
        "discharge_df['General'] = discharge_df.apply(extract_general, axis =1)\n",
        "discharge_df.General.head()"
      ]
    }
  ],
  "metadata": {
    "colab": {
      "collapsed_sections": [
        "MnLQAGLpnXFw"
      ],
      "provenance": []
    },
    "kernelspec": {
      "display_name": "Python 3",
      "name": "python3"
    },
    "language_info": {
      "codemirror_mode": {
        "name": "ipython",
        "version": 3
      },
      "file_extension": ".py",
      "mimetype": "text/x-python",
      "name": "python",
      "nbconvert_exporter": "python",
      "pygments_lexer": "ipython3",
      "version": "3.9.13"
    }
  },
  "nbformat": 4,
  "nbformat_minor": 0
}
