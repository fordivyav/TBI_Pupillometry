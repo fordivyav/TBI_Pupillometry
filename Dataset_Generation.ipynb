{
  "cells": [
    {
      "attachments": {},
      "cell_type": "markdown",
      "metadata": {
        "id": "CY6eRk1XiIfZ"
      },
      "source": [
        "# Dataset Generation\n",
        "### Author: Divya Veerapaneni MS4, Ong Lab\n",
        "### Input: \n",
        "#### all_pupils_bmc.csv - multiple pupil observations per patient\n",
        "#### Consolidated_Study_Cohort_Traits.xlsx - patient-level fixed variables (demographic and pupil data)\n",
        "#### utilizes helper functions from HelperMethods.py\n",
        "### Description: This ipynb preprocesses the TBI dataset to create a final dataset for logistic regression including pupil data, demographic data, and incidence and frequency of abnormal pupil phenotypes\n",
        "### Output: \n",
        "#### 1. obs_df - a csv file that shows pupil observation level data for the full patient cohort\n",
        "#### 2. final_merged_df - a csv file that shows patient level data for the full patient cohort\n"
      ]
    },
    {
      "attachments": {},
      "cell_type": "markdown",
      "metadata": {},
      "source": [
        "# Preprocessing Data"
      ]
    },
    {
      "cell_type": "code",
      "execution_count": 1,
      "metadata": {
        "colab": {
          "base_uri": "https://localhost:8080/"
        },
        "id": "8jugDiqAg99t",
        "outputId": "a573a37e-3f37-4fc0-935c-f56a8f8104a4"
      },
      "outputs": [],
      "source": [
        "#import statements\n",
        "import pandas as pd\n",
        "import numpy as np\n",
        "import csv\n",
        "from datetime import datetime \n",
        "import datetime\n",
        "import warnings\n",
        "warnings.filterwarnings(\"ignore\")\n",
        "import HelperMethods"
      ]
    },
    {
      "cell_type": "code",
      "execution_count": 2,
      "metadata": {},
      "outputs": [],
      "source": [
        "#read input files as dataframes\n",
        "file_path = '/Users/divs/Box/1-BMC Smartguards/10-Processing and Visualization/8-TBI Pupillometry/Data/Intermediate Datasets/'\n",
        "outcomes_df = pd.read_excel('/Users/divs/Box/1-BMC Smartguards/10-Processing and Visualization/8-TBI Pupillometry/Data/Consolidated_Study_Cohort_Traits.xlsx')\n",
        "pupil_df = pd.read_csv('/Users/divs/Box/1-BMC Smartguards/10-Processing and Visualization/8-TBI Pupillometry/Data/all_pupils_bmc_04-04-2023.csv', low_memory=False)\n",
        "\n",
        "#pre-process pupil dataset\n",
        "pupil_df = pupil_df[pupil_df.mrn.isin(outcomes_df.MRN.to_list())]\n",
        "pupil_df = pupil_df[['mrn', 'date', 'npil', 'sizel','minl', '%l', 'cvl', 'mcvl', 'dvl', 'latl', 'npir', 'sizer', 'minr', '%r', 'cvr', 'mcvr', 'dvr', 'latr']]\n",
        "\n",
        "#pre-process ground_truth dataset\n",
        "outcomes_df = outcomes_df[['MRN', 'ID', 'Crani_Surgery',\n",
        "       'Discharge_Disposition', 'Unfavorable_Outcome',\n",
        "       'Orientedx3', 'Awake_Alert', 'Mechanism_Injury', 'PRES_DT',\n",
        "       'ADMIT_DT', 'DISCH_DT', 'tbi_severity', 'AGE', 'SEX', 'RACE',\n",
        "       'GCS', 'Deceased', 'RACE_Black', 'Rotterdam', 'Marshall']]\n",
        "outcomes_df = outcomes_df.rename(columns={'MRN':'mrn'})"
      ]
    },
    {
      "attachments": {},
      "cell_type": "markdown",
      "metadata": {},
      "source": [
        "# Creating Observation Level Dataset "
      ]
    },
    {
      "cell_type": "code",
      "execution_count": 3,
      "metadata": {},
      "outputs": [],
      "source": [
        "#preprocess pupil data\n",
        "cleaned_pupil_df = HelperMethods.clean_tbi_dataframe(pupil_df) #pre_process dataframe\n",
        "obs_df = HelperMethods.create_first_x_hours_df(cleaned_pupil_df, outcomes_df, 72) #obtain observations up to 3 days\n",
        "\n",
        "#compute burden of abnormal pupil phenotype stages\n",
        "obs_df =  obs_df.apply(HelperMethods.compute_incidence, axis=1)\n",
        "\n",
        "#select desired columms (computed per patient/MRN)\n",
        "outcomes_for_obs_df = outcomes_df[['mrn', 'ID', 'Unfavorable_Outcome', 'Deceased', 'Orientedx3', 'Awake_Alert', 'tbi_severity', 'AGE', 'SEX',  'RACE_Black', 'Rotterdam', 'Mechanism_Injury']]\n",
        "obs_df = obs_df.merge(outcomes_for_obs_df, on ='mrn', how='left')\n",
        "\n",
        "grouping = obs_df.groupby(['mrn'])\n",
        "n_obs_df = grouping.size().to_frame('total_obs')\n",
        "obs_df = obs_df.merge(n_obs_df, on='mrn', how='left')\n",
        "# obs_df.to_csv(file_path + 'df_72h_9_7.csv',index=False)"
      ]
    },
    {
      "attachments": {},
      "cell_type": "markdown",
      "metadata": {},
      "source": [
        "# Creating Patient Level Dataset"
      ]
    },
    {
      "cell_type": "code",
      "execution_count": 4,
      "metadata": {
        "id": "CUtinz6OiRCm"
      },
      "outputs": [],
      "source": [
        "#preprocess pupil data and only collect observations from first 72 hrs for each patient\n",
        "cleaned_pupil_df = HelperMethods.clean_tbi_dataframe(pupil_df)\n",
        "df_72h = HelperMethods.create_first_x_hours_df(cleaned_pupil_df, outcomes_df, 72) \n",
        "\n",
        "# group by unique mrn and add observations total by mrn as n_obs\n",
        "grouping = df_72h.groupby(['mrn'])\n",
        "median_pupil_data = grouping.median().round(2)\n",
        "median_pupil_data['n_obs'] = grouping.size().to_list()\n",
        "median_pupil_data = median_pupil_data.reset_index()\n",
        "median_pupil_data = median_pupil_data[['mrn', 'lower_npi', 'average_npi', 'npi_diff', 'size_diff', 'n_obs']]\n",
        "\n",
        "#compute incidence and incidence from imported methods\n",
        "burdens_72h = HelperMethods.compute_burden(df_72h)\n",
        "incidence_72h = burdens_72h.copy(deep=True)\n",
        "incidence_72h.columns = incidence_72h.columns.str.replace('burden', 'incidence')\n",
        "column_names = incidence_72h.columns[0:]\n",
        "incidence_72h[column_names] = incidence_72h[column_names].astype(bool).astype(int)\n",
        "\n",
        "#merge datasets together\n",
        "outcomes_df = outcomes_df[['mrn', 'ID', 'Unfavorable_Outcome', 'Deceased', 'Orientedx3', 'Awake_Alert', 'tbi_severity', 'AGE', 'SEX',  'RACE_Black']]\n",
        "final_merged_df = outcomes_df.merge(median_pupil_data, on='mrn', how='left') #pupil data\n",
        "final_merged_df = final_merged_df.merge(burdens_72h, on='mrn', how='left') #frequencies\n",
        "final_merged_df = final_merged_df.merge(incidence_72h, on='mrn', how='left') #incidences\n",
        "final_merged_df = final_merged_df.fillna(0)\n",
        "# final_merged_df = final_merged_df.to_excel(file_path + 'temp_data.xlsx',  index=False)"
      ]
    }
  ],
  "metadata": {
    "colab": {
      "provenance": []
    },
    "kernelspec": {
      "display_name": "Python 3",
      "name": "python3"
    },
    "language_info": {
      "codemirror_mode": {
        "name": "ipython",
        "version": 3
      },
      "file_extension": ".py",
      "mimetype": "text/x-python",
      "name": "python",
      "nbconvert_exporter": "python",
      "pygments_lexer": "ipython3",
      "version": "3.9.13"
    }
  },
  "nbformat": 4,
  "nbformat_minor": 0
}
